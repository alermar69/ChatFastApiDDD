{
 "cells": [
  {
   "metadata": {
    "ExecuteTime": {
     "end_time": "2025-10-15T15:46:43.402985Z",
     "start_time": "2025-10-15T15:46:43.178725Z"
    }
   },
   "cell_type": "code",
   "source": [
    "%load_ext autoreload\n",
    "%autoreload 2"
   ],
   "id": "afd0050cd72d2e7a",
   "outputs": [],
   "execution_count": 1
  },
  {
   "cell_type": "code",
   "id": "initial_id",
   "metadata": {
    "collapsed": true,
    "ExecuteTime": {
     "end_time": "2025-10-15T15:46:43.448791Z",
     "start_time": "2025-10-15T15:46:43.409005Z"
    }
   },
   "source": [
    "from domain.entities.messages import  Message\n",
    "from domain.values.messages import  Text"
   ],
   "outputs": [],
   "execution_count": 2
  },
  {
   "metadata": {},
   "cell_type": "code",
   "source": "",
   "id": "52a71b0dde12dab4",
   "outputs": [],
   "execution_count": null
  },
  {
   "metadata": {
    "ExecuteTime": {
     "end_time": "2025-10-15T15:46:48.849590Z",
     "start_time": "2025-10-15T15:46:48.804977Z"
    }
   },
   "cell_type": "code",
   "source": [
    "text = Text('hello')\n",
    "text.as_generic_type()"
   ],
   "id": "764d240747ddc3dc",
   "outputs": [
    {
     "data": {
      "text/plain": [
       "'hellofff'"
      ]
     },
     "execution_count": 3,
     "metadata": {},
     "output_type": "execute_result"
    }
   ],
   "execution_count": 3
  },
  {
   "metadata": {
    "ExecuteTime": {
     "end_time": "2025-10-15T15:46:49.557883Z",
     "start_time": "2025-10-15T15:46:49.531107Z"
    }
   },
   "cell_type": "code",
   "source": "text",
   "id": "33391ea4b6c18457",
   "outputs": [
    {
     "data": {
      "text/plain": [
       "Text(value='hello')"
      ]
     },
     "execution_count": 4,
     "metadata": {},
     "output_type": "execute_result"
    }
   ],
   "execution_count": 4
  },
  {
   "metadata": {
    "ExecuteTime": {
     "end_time": "2025-10-15T15:46:51.279222Z",
     "start_time": "2025-10-15T15:46:51.250733Z"
    }
   },
   "cell_type": "code",
   "source": [
    "from domain.exeptions.base import ApplicationException\n",
    "from domain.exeptions.messages import TextTooLongException\n",
    "\n",
    "try:\n",
    "    wrong_text =Text('a'*300)\n",
    "except ApplicationException as e:\n",
    "    print(e.message)"
   ],
   "id": "487bf149c47aa370",
   "outputs": [
    {
     "name": "stdout",
     "output_type": "stream",
     "text": [
      "Слишком длинный текст сообщения 'aaaaaaaaaaaaaaaaaaaaaaaaaaaaaaaaaaaaaaaaaaaaaaaaaaaaaaaaaaaaaaaaaaaaaaaaaaaaaaaaaaaaaaaaaaaaaaaaaaaaaaaaaaaaaaaaaaaaaaaaaaaaaaaaaaaaaaaaaaaaaaaaaaaaaaaaaaaaaaaaaaaaaaaaaaaaaaaaaaaaaaaaaaaaaaaaaaaaaaaaaaaaaaaaaaaaaaaaaaaaaaaaaaaaaaaaaaaaaaaaaaaaaaaaaaaaaaa...'\n"
     ]
    }
   ],
   "execution_count": 5
  },
  {
   "metadata": {
    "ExecuteTime": {
     "end_time": "2025-10-15T15:47:55.253732Z",
     "start_time": "2025-10-15T15:47:55.221966Z"
    }
   },
   "cell_type": "code",
   "source": [
    "m = Message(text)\n",
    "m"
   ],
   "id": "7afc16f5355ca87b",
   "outputs": [
    {
     "data": {
      "text/plain": [
       "Message(oid='f26e3917-1b26-4f12-8299-63352539c209', text=Text(value='hello'))"
      ]
     },
     "execution_count": 6,
     "metadata": {},
     "output_type": "execute_result"
    }
   ],
   "execution_count": 6
  }
 ],
 "metadata": {
  "kernelspec": {
   "display_name": "Python 3",
   "language": "python",
   "name": "python3"
  },
  "language_info": {
   "codemirror_mode": {
    "name": "ipython",
    "version": 2
   },
   "file_extension": ".py",
   "mimetype": "text/x-python",
   "name": "python",
   "nbconvert_exporter": "python",
   "pygments_lexer": "ipython2",
   "version": "2.7.6"
  }
 },
 "nbformat": 4,
 "nbformat_minor": 5
}
